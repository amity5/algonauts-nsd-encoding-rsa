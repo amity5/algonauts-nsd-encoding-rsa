{
 "cells": [
  {
   "cell_type": "code",
   "execution_count": 1,
   "metadata": {
    "colab": {
     "base_uri": "https://localhost:8080/"
    },
    "executionInfo": {
     "elapsed": 20068,
     "status": "ok",
     "timestamp": 1755438453875,
     "user": {
      "displayName": "Roth Lab",
      "userId": "08795718567102530003"
     },
     "user_tz": -180
    },
    "id": "wOGzfC1-UOM9",
    "outputId": "c13cffaf-4ead-4ffb-fa85-8bf30baa4d54"
   },
   "outputs": [
    {
     "name": "stdout",
     "output_type": "stream",
     "text": [
      "Mounted at /content/drive\n"
     ]
    }
   ],
   "source": [
    "# mount drive\n",
    "from google.colab import drive\n",
    "drive.mount('/content/drive', force_remount=True)"
   ]
  },
  {
   "cell_type": "code",
   "execution_count": null,
   "metadata": {
    "colab": {
     "base_uri": "https://localhost:8080/"
    },
    "executionInfo": {
     "elapsed": 50658,
     "status": "ok",
     "timestamp": 1755438507442,
     "user": {
      "displayName": "Roth Lab",
      "userId": "08795718567102530003"
     },
     "user_tz": -180
    },
    "id": "cR3XwATKUnkQ",
    "outputId": "4fbe0d52-cc6e-46f4-c103-390b6a3eaf17"
   },
   "outputs": [
    {
     "name": "stdout",
     "output_type": "stream",
     "text": [
      "Saved table -> /content/drive/MyDrive/algonauts_outputs/group_clip/group_summary_day3.csv\n",
      "Saved heatmaps -> /content/drive/MyDrive/algonauts_outputs/group_clip/plots\n",
      "Saved Group figures -> /content/drive/MyDrive/algonauts_outputs/group_clip/plots\n",
      "Done.\n"
     ]
    }
   ],
   "source": [
    "#  Aggregate across ROIs & subjects (Algonauts)\n",
    "# ----------------------------------------------------\n",
    "# Scan ENCODING RSA outputs, builds per-subject/ROI summary table, and saves plots.\n",
    "\n",
    "import os, json\n",
    "from pathlib import Path\n",
    "import numpy as np\n",
    "import pandas as pd\n",
    "import matplotlib.pyplot as plt\n",
    "\n",
    "# ---------- PATHS ----------\n",
    "RSA_BASE = Path(\"/content/drive/MyDrive/algonauts_outputs/encoding_rsa_random_clip\")\n",
    "GROUP_BASE = Path(\"/content/drive/MyDrive/algonauts_outputs/group_clip\")\n",
    "PLOTS_DIR = GROUP_BASE / \"plots\"\n",
    "GROUP_BASE.mkdir(parents=True, exist_ok=True)\n",
    "PLOTS_DIR.mkdir(parents=True, exist_ok=True)\n",
    "\n",
    "# ---------- DEBUG ----------\n",
    "DEBUG = False          # set True to run fast while testing\n",
    "DEBUG_SUBJECTS = [\"subj01\"]\n",
    "DEBUG_ROIS     = [\"FFA\"]\n",
    "\n",
    "# ------ ORDER ------\n",
    "# If these names exist, we will order columns by this list; remaining ROIs appear after in alpha order.\n",
    "ROI_ORDER = [\"EBA\",\"FFA\",\"PPA\"]\n",
    "\n",
    "# ----- HELP --------\n",
    "def load_json(p: Path):\n",
    "    if not p.exists():\n",
    "        return {}\n",
    "    try:\n",
    "        with open(p, \"r\") as f:\n",
    "            return json.load(f)\n",
    "    except Exception:\n",
    "        return {}\n",
    "\n",
    "def discover_rois_and_subjects(rsa_root: Path):\n",
    "    roi_dirs = [d for d in rsa_root.iterdir() if d.is_dir()]\n",
    "    rois = [d.name for d in roi_dirs]\n",
    "    subjects = set()\n",
    "    for r in roi_dirs:\n",
    "        for s in r.iterdir():\n",
    "            if s.is_dir():\n",
    "                subjects.add(s.name)\n",
    "    return sorted(rois), sorted(subjects)\n",
    "\n",
    "def bootstrap_ci(x, stat_fn=np.median, n_boot=5000, ci=95, seed=42):\n",
    "    x = np.asarray(x)\n",
    "    x = x[~np.isnan(x)]\n",
    "    if len(x) == 0:\n",
    "        return np.nan, (np.nan, np.nan)\n",
    "    rng = np.random.default_rng(seed)\n",
    "    stats = []\n",
    "    for _ in range(n_boot):\n",
    "        bs = rng.choice(x, size=len(x), replace=True)\n",
    "        stats.append(stat_fn(bs))\n",
    "    low = np.percentile(stats, (100-ci)/2)\n",
    "    high = np.percentile(stats, 100 - (100-ci)/2)\n",
    "    return stat_fn(x), (low, high)\n",
    "\n",
    "def ordered_rois(cols, preferred=ROI_ORDER):\n",
    "    cols = list(cols)\n",
    "    pref = [r for r in preferred if r in cols]\n",
    "    rest = sorted([r for r in cols if r not in pref])\n",
    "    return pref + rest\n",
    "\n",
    "# ------ COLLECT -------\n",
    "all_rows = []\n",
    "rois_found, subs_found = discover_rois_and_subjects(RSA_BASE)\n",
    "if DEBUG:\n",
    "    rois_found = [r for r in rois_found if r in DEBUG_ROIS]\n",
    "    subs_found = [s for s in subs_found if s in DEBUG_SUBJECTS]\n",
    "\n",
    "for roi in rois_found:\n",
    "    for subj in subs_found:\n",
    "        sdir = RSA_BASE / roi / subj\n",
    "        if not sdir.exists():\n",
    "            continue\n",
    "        enc = load_json(sdir / \"encoding_summary.json\")\n",
    "        rsa = load_json(sdir / \"rsa_summary.json\")\n",
    "        if not enc or not rsa:\n",
    "            # skip incomplete\n",
    "            continue\n",
    "\n",
    "        all_rows.append({\n",
    "            \"subject\": subj,\n",
    "            \"roi\": roi,\n",
    "            \"feature_model\": enc.get(\"feature_model\", rsa.get(\"feature_model\", \"NA\")),\n",
    "            \"n_images\": enc.get(\"n_images\", np.nan),\n",
    "            \"n_voxels\": enc.get(\"n_voxels\", np.nan),\n",
    "            \"r2_mean\": enc.get(\"r2_mean\", np.nan),\n",
    "            \"r2_median\": enc.get(\"r2_median\", np.nan),\n",
    "            \"r2_top10_mean\": enc.get(\"r2_top10_mean\", np.nan),\n",
    "            \"rsa_rho\": rsa.get(\"rho_spearman\", np.nan),\n",
    "            \"rsa_p\": rsa.get(\"p_value_perm\", np.nan),\n",
    "        })\n",
    "\n",
    "df = pd.DataFrame(all_rows)\n",
    "if df.empty:\n",
    "    raise RuntimeError(\"No RSA results found. Check RSA_BASE path.\")\n",
    "\n",
    "# Save  summary\n",
    "group_csv = GROUP_BASE / \"group_summary_day3.csv\"\n",
    "df.to_csv(group_csv, index=False)\n",
    "print(\"Saved table ->\", group_csv)\n",
    "\n",
    "# ---- HEATMAPS ----\n",
    "def pivot_metric(df, metric):\n",
    "    # rows: subjects, cols: rois\n",
    "    pivot = df.pivot_table(index=\"subject\", columns=\"roi\", values=metric, aggfunc=\"median\")\n",
    "    pivot = pivot.reindex(columns=ordered_rois(pivot.columns))\n",
    "    pivot = pivot.sort_index()  # subjects alpha\n",
    "    return pivot\n",
    "\n",
    "def save_heatmap(array_df, title, out_png):\n",
    "    plt.figure(figsize=(max(6, 0.6*array_df.shape[1]), max(3, 0.5*array_df.shape[0])))\n",
    "    plt.imshow(array_df.values, aspect=\"auto\")\n",
    "    plt.colorbar()\n",
    "    plt.xticks(range(array_df.shape[1]), array_df.columns, rotation=45, ha=\"right\")\n",
    "    plt.yticks(range(array_df.shape[0]), array_df.index)\n",
    "    plt.title(title)\n",
    "    plt.tight_layout()\n",
    "    plt.savefig(out_png, dpi=200, bbox_inches=\"tight\")\n",
    "    plt.close()\n",
    "\n",
    "hm_r2 = pivot_metric(df, \"r2_median\")\n",
    "hm_rho = pivot_metric(df, \"rsa_rho\")\n",
    "save_heatmap(hm_r2, \"R² (median) per Subject × ROI\", PLOTS_DIR / \"heatmap_r2_median.png\")\n",
    "save_heatmap(hm_rho, \"RSA ρ per Subject × ROI\", PLOTS_DIR / \"heatmap_rsa_rho.png\")\n",
    "print(\"Saved heatmaps ->\", PLOTS_DIR)\n",
    "\n",
    "# ---------- BAR PLOTS WITH BOOTSTRAP CI ----------\n",
    "def roi_bar_with_ci(df, metric, title, out_png, n_boot=5000 if not DEBUG else 1000):\n",
    "    # compute median across subjects per ROI + bootstrap CI\n",
    "    rois = ordered_rois(sorted(df[\"roi\"].unique()))\n",
    "    meds, lows, highs = [], [], []\n",
    "    for r in rois:\n",
    "        vals = df.loc[df[\"roi\"]==r, metric].values\n",
    "        m, (lo, hi) = bootstrap_ci(vals, stat_fn=np.median, n_boot=n_boot)\n",
    "        meds.append(m); lows.append(lo); highs.append(hi)\n",
    "    meds = np.array(meds); lows = np.array(lows); highs = np.array(highs)\n",
    "    err_low = meds - lows; err_high = highs - meds\n",
    "\n",
    "    plt.figure(figsize=(max(6, 0.6*len(rois)), 4))\n",
    "    xs = np.arange(len(rois))\n",
    "    plt.bar(xs, meds, yerr=[err_low, err_high], capsize=3)\n",
    "    plt.xticks(xs, rois, rotation=45, ha=\"right\")\n",
    "    plt.title(title)\n",
    "    plt.ylabel(metric)\n",
    "    plt.tight_layout()\n",
    "    plt.savefig(out_png, dpi=200, bbox_inches=\"tight\")\n",
    "    plt.close()\n",
    "\n",
    "roi_bar_with_ci(df, \"r2_median\", \"ROI median R² (bootstrap 95% CI)\", PLOTS_DIR / \"bars_roi_median_r2.png\")\n",
    "roi_bar_with_ci(df, \"rsa_rho\", \"ROI median RSA ρ (bootstrap 95% CI)\", PLOTS_DIR / \"bars_roi_median_rsa.png\")\n",
    "\n",
    "# ----- SCATTER: ROI-wise median R² vs median RSA ρ -------\n",
    "agg = df.groupby(\"roi\").agg(\n",
    "    r2_median_roi=(\"r2_median\",\"median\"),\n",
    "    rsa_rho_roi=(\"rsa_rho\",\"median\")\n",
    ").reset_index()\n",
    "agg = agg.set_index(\"roi\").reindex(ordered_rois(agg[\"roi\"].tolist())).reset_index()\n",
    "\n",
    "plt.figure(figsize=(6,5))\n",
    "plt.scatter(agg[\"r2_median_roi\"].values, agg[\"rsa_rho_roi\"].values, s=40)\n",
    "for i, row in agg.iterrows():\n",
    "    plt.annotate(row[\"roi\"], (row[\"r2_median_roi\"], row[\"rsa_rho_roi\"]), xytext=(3,3), textcoords=\"offset points\")\n",
    "plt.xlabel(\"ROI median R²\")\n",
    "plt.ylabel(\"ROI median RSA ρ\")\n",
    "plt.title(\"ROI-wise alignment: encoding vs RSA\")\n",
    "plt.tight_layout()\n",
    "plt.savefig(PLOTS_DIR / \"scatter_roi_r2_vs_rsa.png\", dpi=200, bbox_inches=\"tight\")\n",
    "plt.close()\n",
    "\n",
    "print(\"Saved Group figures ->\", PLOTS_DIR)\n",
    "print(\"Done.\")\n"
   ]
  }
 ],
 "metadata": {
  "colab": {
   "provenance": [
    {
     "file_id": "1qFG_aO7277yg7QeqcA-dPNVgYLSQSIKJ",
     "timestamp": 1755093610385
    }
   ]
  },
  "kernelspec": {
   "display_name": "Python 3",
   "name": "python3"
  },
  "language_info": {
   "name": "python"
  }
 },
 "nbformat": 4,
 "nbformat_minor": 0
}
